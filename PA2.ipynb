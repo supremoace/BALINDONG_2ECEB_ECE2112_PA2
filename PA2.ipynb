{
 "cells": [
  {
   "cell_type": "markdown",
   "id": "1e8d58c3",
   "metadata": {},
   "source": [
    "### PA2"
   ]
  },
  {
   "cell_type": "markdown",
   "id": "88783cf1",
   "metadata": {},
   "source": [
    "Normalization Problem"
   ]
  },
  {
   "cell_type": "code",
   "execution_count": null,
   "id": "6c880f9c",
   "metadata": {},
   "outputs": [
    {
     "name": "stdout",
     "output_type": "stream",
     "text": [
      "Original 5x5 random array X:\n",
      "[[316  50 190 212 430]\n",
      " [452  24 209 130  52]\n",
      " [490  65 357 455  29]\n",
      " [442 367 438 222 451]\n",
      " [332  39 471 129  28]]\n"
     ]
    }
   ],
   "source": [
    "import numpy as np\n",
    "\n",
    "X = np.random.randint(1, 101, size = (5, 5)) #create a random 5x5 array\n",
    "print(\"Original 5x5 random array X:\")\n",
    "print(X)\n",
    "\n",
    "np.save(\"X_normalized.npy\", X) #save the array to a .npy file"
   ]
  },
  {
   "cell_type": "code",
   "execution_count": 60,
   "id": "3f65de79",
   "metadata": {},
   "outputs": [
    {
     "name": "stdout",
     "output_type": "stream",
     "text": [
      "The original Array is: \n",
      " [[316  50 190 212 430]\n",
      " [452  24 209 130  52]\n",
      " [490  65 357 455  29]\n",
      " [442 367 438 222 451]\n",
      " [332  39 471 129  28]]\n",
      "The normalized Array is: \n",
      " [[ 0.3598901  -1.21462909 -0.38593478 -0.25571139  1.03468404]\n",
      " [ 1.16490743 -1.36852946 -0.27346912 -0.74108948 -1.2027906 ]\n",
      " [ 1.38983874 -1.12584041  0.60257915  1.18266516 -1.33893323]\n",
      " [ 1.10571498  0.6617716   1.082038   -0.19651894  1.15898818]\n",
      " [ 0.45459802 -1.27974078  1.27737308 -0.74700873 -1.34485248]]\n"
     ]
    }
   ],
   "source": [
    "original_arr = np.load('X_normalized.npy') #to call the random array\n",
    "\n",
    "X_normalized = (X-X.mean())/X.std() #to normalize\n",
    "\n",
    "#to print the results\n",
    "print(\"The original Array is: \\n\", original_arr)\n",
    "print(\"The normalized Array is: \\n\",X_normalized)\n"
   ]
  },
  {
   "cell_type": "markdown",
   "id": "18444c41",
   "metadata": {},
   "source": [
    "Divisible by 3 Problem"
   ]
  },
  {
   "cell_type": "code",
   "execution_count": 61,
   "id": "32b5889e",
   "metadata": {},
   "outputs": [
    {
     "name": "stdout",
     "output_type": "stream",
     "text": [
      "Squares of first 100 positive integers:\n",
      "[[    1     4     9    16    25    36    49    64    81   100]\n",
      " [  121   144   169   196   225   256   289   324   361   400]\n",
      " [  441   484   529   576   625   676   729   784   841   900]\n",
      " [  961  1024  1089  1156  1225  1296  1369  1444  1521  1600]\n",
      " [ 1681  1764  1849  1936  2025  2116  2209  2304  2401  2500]\n",
      " [ 2601  2704  2809  2916  3025  3136  3249  3364  3481  3600]\n",
      " [ 3721  3844  3969  4096  4225  4356  4489  4624  4761  4900]\n",
      " [ 5041  5184  5329  5476  5625  5776  5929  6084  6241  6400]\n",
      " [ 6561  6724  6889  7056  7225  7396  7569  7744  7921  8100]\n",
      " [ 8281  8464  8649  8836  9025  9216  9409  9604  9801 10000]]\n"
     ]
    }
   ],
   "source": [
    "import numpy as np\n",
    "\n",
    "integers = np.arange(1, 101) # First, create array of integers 1 to 100\n",
    "\n",
    "squares = integers ** 2 # Square them to get 1², 2², 3², ..., 100²\n",
    "\n",
    "A = squares.reshape(10, 10) # Reshape into 10x10 array\n",
    "\n",
    "print(\"Squares of first 100 positive integers:\")\n",
    "print(A)"
   ]
  },
  {
   "cell_type": "code",
   "execution_count": null,
   "id": "0c264460",
   "metadata": {},
   "outputs": [
    {
     "name": "stdout",
     "output_type": "stream",
     "text": [
      "\n",
      "Elements in A that are divisible by 3: \n",
      " [   9   36   81  144  225  324  441  576  729  900 1089 1296 1521 1764\n",
      " 2025 2304 2601 2916 3249 3600 3969 4356 4761 5184 5625 6084 6561 7056\n",
      " 7569 8100 8649 9216 9801]\n",
      "\n",
      "Number of elements divisible by 3: 33\n"
     ]
    }
   ],
   "source": [
    "div_by_3 = A[A % 3 == 0] # Find elements divisible by 3\n",
    "\n",
    "np.save(\"div_by_3.npy\", div_by_3) #Save the numbers as \"div_by_3.npy\"\n",
    "\n",
    "Num_div_by_3 = np.load(\"div_by_3.npy\") #Load the saved file\n",
    "\n",
    "print(f\"\\nElements in A that are divisible by 3: \\n\", Num_div_by_3)\n",
    "print(f\"\\nNumber of elements divisible by 3: {len(Num_div_by_3)}\")"
   ]
  }
 ],
 "metadata": {
  "kernelspec": {
   "display_name": "Python 3",
   "language": "python",
   "name": "python3"
  },
  "language_info": {
   "codemirror_mode": {
    "name": "ipython",
    "version": 3
   },
   "file_extension": ".py",
   "mimetype": "text/x-python",
   "name": "python",
   "nbconvert_exporter": "python",
   "pygments_lexer": "ipython3",
   "version": "3.11.4"
  }
 },
 "nbformat": 4,
 "nbformat_minor": 5
}
